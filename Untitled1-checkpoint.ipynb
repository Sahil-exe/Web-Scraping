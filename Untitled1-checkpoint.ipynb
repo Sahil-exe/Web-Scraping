{
 "cells": [
  {
   "cell_type": "code",
   "execution_count": 1,
   "id": "3bc381e9",
   "metadata": {},
   "outputs": [
    {
     "name": "stdout",
     "output_type": "stream",
     "text": [
      "[1, 23, 'Hi', 'python']\n",
      "[1, 23, 'Hi', 'python', 6]\n",
      "[1, 23, 1.5, 'Hi', 'python', 6]\n",
      "[1, 23, 'Hi', 'python', 6]\n",
      "[1, 23, 'python', 6]\n",
      "[1, 23, 'python', 6, 'SAHIL', 'BYE']\n",
      "SAHIL KHAN 4317\n"
     ]
    }
   ],
   "source": [
    "#creating list\n",
    "A=[1,23,'Hi','python']\n",
    "print(A)\n",
    "#append()use to append the value in list\n",
    "A.append(6)\n",
    "print(A)\n",
    "#insert() use to insert new value at a given index in the list.\n",
    "A.insert(2, 1.5)\n",
    "print(A)\n",
    "#Remove() use to remove/delete a value from the list\n",
    "A.remove(1.5)\n",
    "print(A)\n",
    "#POP() use to delete a value from a particular index(write index value)\n",
    "A.pop(2)\n",
    "print(A)\n",
    "#extend() use to extend the value in list\n",
    "B=['SAHIL','BYE']\n",
    "A.extend(B)\n",
    "print(A)\n",
    "print(\"SAHIL KHAN 4317\")"
   ]
  },
  {
   "cell_type": "code",
   "execution_count": 11,
   "id": "3aeff30c",
   "metadata": {},
   "outputs": [
    {
     "name": "stdout",
     "output_type": "stream",
     "text": [
      "Enter your name : Sahil Khan\n",
      "Enter your Rollno : 4317\n",
      "Enter your lec attended : 5\n",
      "enter 1 to insert more data or enter 2 to see the available data:2\n",
      "('name: Sahil Khan', 'roll no : 4317', 'lec attended : 5')\n"
     ]
    }
   ],
   "source": [
    "print(\"SAHIL KHAN 4317\")\n",
    "att=()\n",
    "start = True\n",
    "while(start):\n",
    "    name = input(\"Enter your name : \")\n",
    "    roll = input(\"Enter your Rollno : \")\n",
    "    lec = input(\"Enter your lec attended : \")\n",
    "    stud = (\"name: \"+name,\"roll no : \"+roll,\"lec attended : \"+lec)\n",
    "    att += stud\n",
    "    req = int(input(\"enter 1 to insert more data or enter 2 to see the available data:\"))\n",
    "    if(req==1):\n",
    "        start = True\n",
    "    else:\n",
    "        print(att)\n",
    "        start = False"
   ]
  },
  {
   "cell_type": "code",
   "execution_count": 28,
   "id": "f26785d6",
   "metadata": {},
   "outputs": [
    {
     "name": "stdout",
     "output_type": "stream",
     "text": [
      "\n",
      "Student attendence :\n",
      "\n",
      "[['4' 's']]\n",
      "()\n",
      "\n",
      "\n",
      "Do you want add any new entries (Y/N):y\n",
      "\n",
      "\t\tInsert new data:\n",
      "Name :iug\n",
      "Roll NO :234\n"
     ]
    },
    {
     "ename": "TypeError",
     "evalue": "can only concatenate str (not \"tuple\") to str",
     "output_type": "error",
     "traceback": [
      "\u001b[1;31m---------------------------------------------------------------------------\u001b[0m",
      "\u001b[1;31mTypeError\u001b[0m                                 Traceback (most recent call last)",
      "\u001b[1;32m<ipython-input-28-807f1b367960>\u001b[0m in \u001b[0;36m<module>\u001b[1;34m\u001b[0m\n\u001b[0;32m     23\u001b[0m         \u001b[0mR\u001b[0m \u001b[1;33m=\u001b[0m \u001b[1;33m(\u001b[0m\u001b[1;33m(\u001b[0m\u001b[0mRoll_no\u001b[0m\u001b[1;33m)\u001b[0m\u001b[1;33m,\u001b[0m\u001b[1;33m)\u001b[0m\u001b[1;33m\u001b[0m\u001b[1;33m\u001b[0m\u001b[0m\n\u001b[0;32m     24\u001b[0m \u001b[1;33m\u001b[0m\u001b[0m\n\u001b[1;32m---> 25\u001b[1;33m         \u001b[0mroll_no\u001b[0m \u001b[1;33m+=\u001b[0m \u001b[0mtuple\u001b[0m\u001b[1;33m(\u001b[0m\u001b[0mR\u001b[0m\u001b[1;33m)\u001b[0m\u001b[1;33m\u001b[0m\u001b[1;33m\u001b[0m\u001b[0m\n\u001b[0m\u001b[0;32m     26\u001b[0m         \u001b[0mname\u001b[0m \u001b[1;33m+=\u001b[0m \u001b[0mtuple\u001b[0m\u001b[1;33m(\u001b[0m\u001b[0mN\u001b[0m\u001b[1;33m)\u001b[0m\u001b[1;33m\u001b[0m\u001b[1;33m\u001b[0m\u001b[0m\n\u001b[0;32m     27\u001b[0m         \u001b[0mDataS\u001b[0m \u001b[1;33m=\u001b[0m \u001b[1;33m(\u001b[0m\u001b[1;33m(\u001b[0m\u001b[0mroll_no\u001b[0m\u001b[1;33m)\u001b[0m \u001b[1;33m,\u001b[0m \u001b[1;33m(\u001b[0m\u001b[0mname\u001b[0m\u001b[1;33m)\u001b[0m\u001b[1;33m)\u001b[0m\u001b[1;33m\u001b[0m\u001b[1;33m\u001b[0m\u001b[0m\n",
      "\u001b[1;31mTypeError\u001b[0m: can only concatenate str (not \"tuple\") to str"
     ]
    }
   ],
   "source": [
    "Roll_no = (\"1\",\"2\",\"3\",\"4\",\"5\",\"6\")\n",
    "Name = (\"meghna\",\"bala\",\"cheta\",\"demon\",\"eli\",\"quinto\")\n",
    "Att = (())\n",
    "DataS = (())\n",
    "ReTry = True\n",
    "print(\"\\nStudent attendence :\\n\")\n",
    "from typing import Tuple\n",
    "import numpy as np\n",
    "DataS = ((roll_no) , (name))\n",
    "N = np.matrix(DataS)\n",
    "print(N)\n",
    "print(Att)\n",
    "print(\"\\n\")\n",
    "reEntry = input(\"Do you want add any new entries (Y/N):\")\n",
    "if reEntry.upper() == \"N\":\n",
    "    pass\n",
    "else :\n",
    "    while(ReTry):\n",
    "        print(\"\\n\\t\\tInsert new data:\")\n",
    "        Name = input(\"Name :\")\n",
    "        Roll_no = input(\"Roll NO :\")\n",
    "        N =(str(Name),)\n",
    "        R = (str(Roll_no),)\n",
    "\n",
    "        roll_no += tuple(R)\n",
    "        name += tuple(N)\n",
    "        DataS = ((roll_no) , (name))\n",
    "        N = np.matrix(DataS)\n",
    "        print(N)\n",
    "        z = input(\"Continue.. (Y/N)\")\n",
    "        if z.upper() == \"Y\":\n",
    "            ReTry = True\n",
    "        else:\n",
    "            ReTry = False\n",
    "        for i in range(0,len(roll_no)):\n",
    "            log = input(f\"(A/P) roll no {roll_no[i]} : \")\n",
    "            Att += ((roll_no[i],name[i],log.upper()),)\n",
    "        N = np.matrix(Att)\n",
    "        print(\"\\n\")\n",
    "        print(N)"
   ]
  },
  {
   "cell_type": "code",
   "execution_count": 36,
   "id": "ca576f29",
   "metadata": {},
   "outputs": [
    {
     "name": "stdout",
     "output_type": "stream",
     "text": [
      "SAHIL KHAN 4317\n",
      "{'c', 'b', 'a'}\n",
      "{'c', 'd', 'b', 'a'}\n",
      "People: {'Jay', 'Archi', 'Idrish'}\n",
      "\n",
      "Set after adding element: {1, 2, 3, 'Jay', 4, 'Idrish', 5, 'Archi', 'Daxit'}\n",
      "Intersection using intersection() function\n",
      "{3, 4}\n",
      "\n",
      "Intersection using '&' operator\n",
      "{3, 4}\n",
      " Difference of two sets using difference() function\n",
      "{0, 1, 2}\n",
      "\n",
      "Difference of two sets using '-' operator\n",
      "{0, 1, 2}\n",
      "Initial set\n",
      "{1, 2, 3, 4, 5, 6}\n",
      "\n",
      "Set after using clear() function\n",
      "set()\n"
     ]
    }
   ],
   "source": [
    "print(\"SAHIL KHAN 4317\")\n",
    "# Python program to\n",
    "# demonstrate sets\n",
    "# Same as {\"a\", \"b\", \"c\"}\n",
    "myset = set([\"a\", \"b\", \"c\"])\n",
    "print(myset)\n",
    "# Adding element to the set\n",
    "myset.add(\"d\")\n",
    "print(myset)\n",
    "# A Python program to\n",
    "# demonstrate adding elements\n",
    "# in a set\n",
    "# Creating a Set\n",
    "people = {\"Jay\", \"Idrish\", \"Archi\"}\n",
    "print(\"People:\", end = \" \")\n",
    "print(people)\n",
    "# This will add Daxit\n",
    "# in the set\n",
    "people.add(\"Daxit\")\n",
    "# Adding elements to the\n",
    "# set using iterator\n",
    "for i in range(1, 6):\n",
    "    people.add(i)\n",
    "print(\"\\nSet after adding element:\", end = \" \")\n",
    "print(people)\n",
    "\n",
    "# Python program to\n",
    "# demonstrate intersection\n",
    "# of two sets\n",
    "set1 = set()\n",
    "set2 = set()\n",
    "for i in range(5):\n",
    "    set1.add(i)\n",
    "for i in range(3,9):\n",
    "    set2.add(i)\n",
    "# Intersection using\n",
    "# intersection() function\n",
    "set3 = set1.intersection(set2)\n",
    "print(\"Intersection using intersection() function\")\n",
    "print(set3)\n",
    "# Intersection using\n",
    "# \"&\" operator\n",
    "set3 = set1 & set2\n",
    "print(\"\\nIntersection using '&' operator\")\n",
    "print(set3)\n",
    "# Python program to\n",
    "# demonstrate difference\n",
    "# of two sets\n",
    "set1 = set()\n",
    "set2 = set()\n",
    "\n",
    "for i in range(5):\n",
    "    set1.add(i)\n",
    "for i in range(3,9):\n",
    "    set2.add(i)\n",
    "# Difference of two sets\n",
    "# using difference() function\n",
    "set3 = set1.difference(set2)\n",
    "print(\" Difference of two sets using difference() function\")\n",
    "print(set3)\n",
    "# Difference of two sets\n",
    "# using '-' operator\n",
    "set3 = set1 - set2\n",
    "print(\"\\nDifference of two sets using '-' operator\")\n",
    "print(set3)\n",
    "# Python program to\n",
    "# demonstrate clearing\n",
    "# of set\n",
    "set1 = {1,2,3,4,5,6}\n",
    "print(\"Initial set\")\n",
    "print(set1)\n",
    "# This method will remove\n",
    "# all the elements of the set\n",
    "set1.clear()\n",
    "print(\"\\nSet after using clear() function\")\n",
    "print(set1)"
   ]
  },
  {
   "cell_type": "code",
   "execution_count": 40,
   "id": "e9ea1c51",
   "metadata": {},
   "outputs": [
    {
     "name": "stdout",
     "output_type": "stream",
     "text": [
      "\n",
      "Dictionary available: {'Alan': 23000, 'meghna': 34000, 'Max': 20000, 'Peter': 90000}\n",
      "Employee having highest salary is: Peter\n",
      "Employee having lowest salary is: Max\n",
      "34000\n",
      "SAHIL KHAN 4317\n"
     ]
    }
   ],
   "source": [
    "salary = {'Alan': 23000, 'meghna' : 34000, 'Max' : 20000, 'Peter' : 90000}\n",
    "print(\"\\nDictionary available:\", salary)\n",
    "#for getting highest salary\n",
    "print(\"Employee having highest salary is:\",max(salary, key= salary.get))\n",
    "#for getting lowest salary\n",
    "print(\"Employee having lowest salary is:\",min(salary, key= salary.get))\n",
    "#for getting particular employee's salary\n",
    "print(salary.get('meghna'))\n",
    "print(\"SAHIL KHAN 4317\")\n"
   ]
  },
  {
   "cell_type": "code",
   "execution_count": 50,
   "id": "3c6c8696",
   "metadata": {},
   "outputs": [
    {
     "name": "stdout",
     "output_type": "stream",
     "text": [
      "-----THIS IS CONCATENATION--------\n",
      "Hello this is python languagelets learn about strings in python\n",
      "Hello this is python language,lets learn about strings in python\n",
      "-------THIS IS ITERATING---------\n",
      "o\n",
      "r\n",
      "a\n",
      "n\n",
      "g\n",
      "e\n",
      "-------UPPERCASE---------\n",
      "ORANGE\n",
      "-------JOINING---------\n",
      "1->2->3->4\n",
      "H.e.l.l.o\n",
      "-------SPLITTING---------\n",
      "['Hello', 'this', 'is', 'python', 'language']\n",
      "['Hello', 'this', 'is python language']\n",
      "-------FINDING(returns index of the word you want)---------\n",
      "6\n",
      "-------REPLACING---------\n",
      "hey this is python language\n",
      "SAHIL KHAN 4317\n"
     ]
    }
   ],
   "source": [
    "s0 = \"orange\"\n",
    "s1 = \"Hello this is python language\"\n",
    "s2 = \"lets learn about strings in python\"\n",
    "#CONCATENATING --> adding two strings together\n",
    "print(\"-----THIS IS CONCATENATION--------\")\n",
    "print(s1 + s2) #this is simply concatenating\n",
    "print(s1 + ',' + s2) #to make it look pretty\n",
    "#ITERATING --> going through the string character by character\n",
    "print(\"-------THIS IS ITERATING---------\")\n",
    "for i in s0:\n",
    "    print(i)\n",
    "#upper() --> it will turn string to uppercase\n",
    "print(\"-------UPPERCASE---------\")\n",
    "print(s0.upper())\n",
    "#join() --> it will join the other string after each element while iterating\n",
    "str1 = '->'\n",
    "str2 = '1234'\n",
    "print(\"-------JOINING---------\")\n",
    "print(str1.join(str2))\n",
    "string = 'Hello'\n",
    "print( '' + '.'.join(string))\n",
    "#split() --> it will split the string word by word\n",
    "print(\"-------SPLITTING---------\")\n",
    "print(s1.split()) #this spilts word by word\n",
    "print(s1.split(\" \",2)) # this will split only first two words then take all other words in single inverted comma\n",
    "#find() --> it will find the character or word you want and return the indexx\n",
    "print(\"-------FINDING(returns index of the word you want)---------\")\n",
    "print(s1.find('this'))\n",
    "print(\"-------REPLACING---------\")\n",
    "print(s1.replace('Hello','hey'))\n",
    "print(\"SAHIL KHAN 4317\")"
   ]
  },
  {
   "cell_type": "code",
   "execution_count": 49,
   "id": "e7250e81",
   "metadata": {},
   "outputs": [
    {
     "name": "stdout",
     "output_type": "stream",
     "text": [
      "SAHIL KHAN 4317\n",
      "<class 'pandas.core.frame.DataFrame'>\n",
      "RangeIndex: 800 entries, 0 to 799\n",
      "Data columns (total 12 columns):\n",
      " #   Column      Non-Null Count  Dtype \n",
      "---  ------      --------------  ----- \n",
      " 0   Name        800 non-null    object\n",
      " 1   Type 1      800 non-null    object\n",
      " 2   Type 2      800 non-null    object\n",
      " 3   Total       800 non-null    int64 \n",
      " 4   HP          800 non-null    int64 \n",
      " 5   Attack      800 non-null    int64 \n",
      " 6   Defense     800 non-null    int64 \n",
      " 7   Sp. Atk     800 non-null    int64 \n",
      " 8   Sp. Def     800 non-null    int64 \n",
      " 9   Speed       800 non-null    int64 \n",
      " 10  Generation  800 non-null    int64 \n",
      " 11  Legendary   800 non-null    bool  \n",
      "dtypes: bool(1), int64(8), object(3)\n",
      "memory usage: 69.7+ KB\n"
     ]
    },
    {
     "data": {
      "image/png": "[encoded data removed]",
      "text/plain": [
       "<Figure size 1440x648 with 1 Axes>"
      ]
     },
     "metadata": {
      "needs_background": "light"
     },
     "output_type": "display_data"
    }
   ],
   "source": [
    "print(\"SAHIL KHAN 4317\")\n",
    "import pandas as pd\n",
    "import numpy as np\n",
    "import matplotlib.pyplot as plt\n",
    "df = pd.read_csv('pokemon.csv') #usage of pandas\n",
    "df.head()\n",
    "df.drop('#', inplace=True, axis=1)\n",
    "df.head()\n",
    "df.shape #usage of numpy\n",
    "# frame[‘DataFrame Column’]= frame[‘DataFrame Column’].apply(str)\n",
    "df['Type 2'] = df['Type 2'].apply(str)\n",
    "df.info()\n",
    "newdf = pd.DataFrame(df, columns=['Name','HP'])\n",
    "newdf.head()\n",
    "newdf.shape\n",
    "plt.rcParams[\"figure.figsize\"] = (20, 9)\n",
    "plt.bar(newdf['Name'].head(), newdf['HP'].head())\n",
    "plt.show()"
   ]
  },
  {
   "cell_type": "code",
   "execution_count": 51,
   "id": "d2974cda",
   "metadata": {},
   "outputs": [
    {
     "name": "stdout",
     "output_type": "stream",
     "text": [
      "SAHIL KHAN 4317\n",
      "<class 'pandas.core.frame.DataFrame'>\n",
      "RangeIndex: 800 entries, 0 to 799\n",
      "Data columns (total 12 columns):\n",
      " #   Column      Non-Null Count  Dtype \n",
      "---  ------      --------------  ----- \n",
      " 0   Name        800 non-null    object\n",
      " 1   Type 1      800 non-null    object\n",
      " 2   Type 2      800 non-null    object\n",
      " 3   Total       800 non-null    int64 \n",
      " 4   HP          800 non-null    int64 \n",
      " 5   Attack      800 non-null    int64 \n",
      " 6   Defense     800 non-null    int64 \n",
      " 7   Sp. Atk     800 non-null    int64 \n",
      " 8   Sp. Def     800 non-null    int64 \n",
      " 9   Speed       800 non-null    int64 \n",
      " 10  Generation  800 non-null    int64 \n",
      " 11  Legendary   800 non-null    bool  \n",
      "dtypes: bool(1), int64(8), object(3)\n",
      "memory usage: 69.7+ KB\n"
     ]
    },
    {
     "data": {
      "image/png": "[encoded data removed]",
      "text/plain": [
       "<Figure size 1440x648 with 1 Axes>"
      ]
     },
     "metadata": {
      "needs_background": "light"
     },
     "output_type": "display_data"
    }
   ],
   "source": [
    "print(\"SAHIL KHAN 4317\")\n",
    "import pandas as pd\n",
    "import numpy as np\n",
    "import matplotlib.pyplot as plt\n",
    "df = pd.read_csv('pokemon.csv') #usage of pandas\n",
    "df.head()\n",
    "df.drop('#', inplace=True, axis=1)\n",
    "df.head()\n",
    "df.shape #usage of numpy\n",
    "# frame[‘DataFrame Column’]= frame[‘DataFrame Column’].apply(str)\n",
    "df['Type 2'] = df['Type 2'].apply(str)\n",
    "df.info()\n",
    "newdf = pd.DataFrame(df, columns=['Name','HP'])\n",
    "newdf.head()\n",
    "newdf.shape\n",
    "plt.rcParams[\"figure.figsize\"] = (20, 9)\n",
    "plt.scatter(newdf['Name'].head(), newdf['HP'].head())\n",
    "plt.show()"
   ]
  },
  {
   "cell_type": "code",
   "execution_count": 52,
   "id": "e2e96404",
   "metadata": {},
   "outputs": [
    {
     "name": "stdout",
     "output_type": "stream",
     "text": [
      "SAHIL KHAN 4317\n",
      "<class 'pandas.core.frame.DataFrame'>\n",
      "RangeIndex: 800 entries, 0 to 799\n",
      "Data columns (total 12 columns):\n",
      " #   Column      Non-Null Count  Dtype \n",
      "---  ------      --------------  ----- \n",
      " 0   Name        800 non-null    object\n",
      " 1   Type 1      800 non-null    object\n",
      " 2   Type 2      800 non-null    object\n",
      " 3   Total       800 non-null    int64 \n",
      " 4   HP          800 non-null    int64 \n",
      " 5   Attack      800 non-null    int64 \n",
      " 6   Defense     800 non-null    int64 \n",
      " 7   Sp. Atk     800 non-null    int64 \n",
      " 8   Sp. Def     800 non-null    int64 \n",
      " 9   Speed       800 non-null    int64 \n",
      " 10  Generation  800 non-null    int64 \n",
      " 11  Legendary   800 non-null    bool  \n",
      "dtypes: bool(1), int64(8), object(3)\n",
      "memory usage: 69.7+ KB\n"
     ]
    },
    {
     "data": {
      "image/png": "[encoded data removed]",
      "text/plain": [
       "<Figure size 1440x648 with 1 Axes>"
      ]
     },
     "metadata": {
      "needs_background": "light"
     },
     "output_type": "display_data"
    }
   ],
   "source": [
    "print(\"SAHIL KHAN 4317\")\n",
    "import pandas as pd\n",
    "import numpy as np\n",
    "import matplotlib.pyplot as plt\n",
    "df = pd.read_csv('pokemon.csv') #usage of pandas\n",
    "df.head()\n",
    "df.drop('#', inplace=True, axis=1)\n",
    "df.head()\n",
    "df.shape #usage of numpy\n",
    "# frame[‘DataFrame Column’]= frame[‘DataFrame Column’].apply(str)\n",
    "df['Type 2'] = df['Type 2'].apply(str)\n",
    "df.info()\n",
    "newdf = pd.DataFrame(df, columns=['Name','HP'])\n",
    "newdf.head()\n",
    "newdf.shape\n",
    "plt.rcParams[\"figure.figsize\"] = (20, 9)\n",
    "plt.scatter(newdf['Name'].head(), newdf['HP'].head())\n",
    "plt.show()"
   ]
  },
  {
   "cell_type": "code",
   "execution_count": 53,
   "id": "4ae3b1c7",
   "metadata": {},
   "outputs": [
    {
     "ename": "IndentationError",
     "evalue": "expected an indented block (<ipython-input-53-583d42477281>, line 38)",
     "output_type": "error",
     "traceback": [
      "\u001b[1;36m  File \u001b[1;32m\"<ipython-input-53-583d42477281>\"\u001b[1;36m, line \u001b[1;32m38\u001b[0m\n\u001b[1;33m    indicesToKeep = finaldf['target'] == target\u001b[0m\n\u001b[1;37m    ^\u001b[0m\n\u001b[1;31mIndentationError\u001b[0m\u001b[1;31m:\u001b[0m expected an indented block\n"
     ]
    }
   ],
   "source": [
    "print(\"sahIL KHAN 4317\")\n",
    "import pandas as pd\n",
    "import matplotlib.pyplot as plt\n",
    "#Standarized the dataset features\n",
    "from sklearn.preprocessing import StandardScaler\n",
    "url = \"https://archive.ics.uci.edu/ml/machine-learning-databases/iris/iris.data\"\n",
    "# load dataset into Pandas DataFrame\n",
    "df = pd.read_csv(url, names=['sepal length','sepal width','petal length','petal width','target'])\n",
    "df.head()\n",
    "mean_sepal_length = df['sepal length'].mean()\n",
    "mean_sepal_length\n",
    "std_dev_sepal_length = df['sepal length'].std()\n",
    "std_dev_sepal_length\n",
    "(5.1-mean_sepal_length)/std_dev_sepal_length\n",
    "feature = ['sepal length', 'sepal width', 'petal length', 'petal width']\n",
    "x = df.loc[:,feature]\n",
    "y = df.loc[:,'target']\n",
    "x = StandardScaler().fit_transform(x)\n",
    "standardised_values = pd.DataFrame(x,columns=feature)\n",
    "standardised_values\n",
    "#PCA PROJECTION OF 2D\n",
    "from sklearn.decomposition import PCA\n",
    "pca = PCA(n_components=2)\n",
    "pct = pca.fit_transform(x)\n",
    "principal_df = pd.DataFrame(pct,columns=['pc1','pc2'])\n",
    "#CONCATINATING TARGET\n",
    "finaldf= pd.concat([principal_df,df[['target']]],axis=1)\n",
    "finaldf.head()\n",
    "#PLOTTING 2 DIEMENTIONAL DATA\n",
    "fig = plt.figure(figsize = (8,8))\n",
    "ax = fig.add_subplot(1,1,1)\n",
    "ax.set_xlabel('Principal Component 1', fontsize = 15)\n",
    "ax.set_ylabel('Principal Component 2', fontsize = 15)\n",
    "ax.set_title('2 component PCA', fontsize = 20)\n",
    "targets = ['Iris-setosa', 'Iris-versicolor', 'Iris-virginica']\n",
    "colors = ['r', 'g', 'b']\n",
    "for target, color in zip(targets,colors):\n",
    "indicesToKeep = finaldf['target'] == target\n",
    "ax.scatter(finaldf.loc[indicesToKeep, 'pc1']\n",
    ", finaldf.loc[indicesToKeep, 'pc2']\n",
    ", c = color\n",
    ", s = 50)\n",
    "ax.legend(targets)\n",
    "ax.grid()\n",
    "#SHOWS TWO SEPARATE VARIENCE PERCENT\n",
    "pca.explained_variance_ratio_"
   ]
  },
  {
   "cell_type": "code",
   "execution_count": null,
   "id": "1c808af4",
   "metadata": {},
   "outputs": [],
   "source": []
  }
 ],
 "metadata": {
  "kernelspec": {
   "display_name": "Python 3",
   "language": "python",
   "name": "python3"
  },
  "language_info": {
   "codemirror_mode": {
    "name": "ipython",
    "version": 3
   },
   "file_extension": ".py",
   "mimetype": "text/x-python",
   "name": "python",
   "nbconvert_exporter": "python",
   "pygments_lexer": "ipython3",
   "version": "3.8.8"
  }
 },
 "nbformat": 4,
 "nbformat_minor": 5
}
